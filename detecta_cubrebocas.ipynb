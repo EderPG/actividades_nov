{
 "cells": [
  {
   "cell_type": "code",
   "execution_count": null,
   "id": "80d20c12-9b74-469b-b1f2-d6445a458373",
   "metadata": {},
   "outputs": [],
   "source": [
    "codigo que deberia funcionar con el clasificador"
   ]
  },
  {
   "cell_type": "code",
   "execution_count": 2,
   "id": "5a161238-be1c-445f-a90d-b15e41542e4c",
   "metadata": {},
   "outputs": [],
   "source": []
  },
  {
   "cell_type": "code",
   "execution_count": 1,
   "id": "68d0065a-10ad-4007-827a-ec8abbbea39d",
   "metadata": {},
   "outputs": [],
   "source": [
    "import numpy as np\n",
    "import cv2 as cv\n",
    "\n",
    "cap = cv.VideoCapture(0)\n",
    "haar_path = 'C:\\Eder\\Cosas TEC\\9 Semestre\\cascade.xml'\n",
    "haar = cv.CascadeClassifier(haar_path)\n",
    "font = cv.FONT_HERSHEY_SIMPLEX\n",
    "\n",
    "while True:\n",
    "    ret, frame = cap.read()\n",
    "    gray = cv.cvtColor(frame, cv.COLOR_BGR2GRAY)\n",
    "\n",
    "    rostros = haar.detectMultiScale(gray, 1.3, 10)\n",
    "\n",
    "    if len(rostros) > 0:\n",
    "        for (x, y, w, h) in rostros:\n",
    "            frame = cv.rectangle(frame, (x, y), (x+w, y+h), (255, 0, 0), 5)\n",
    "            frame = cv.rectangle(frame, (x+30, y+30), (x+w-30, y+h-100), (0, 255, 0), 5)\n",
    "            cv.putText(frame, 'Rostro', (x, y), font, 0.7, (255, 255, 255), 2)\n",
    "\n",
    "    cv.imshow('rostros', frame)\n",
    "\n",
    "    k = cv.waitKey(1)\n",
    "    if k == 27:\n",
    "        break\n",
    "\n",
    "cap.release()\n",
    "cv.destroyAllWindows()\n"
   ]
  },
  {
   "cell_type": "code",
   "execution_count": null,
   "id": "51818640-8db4-4d32-af2e-487c1a52b504",
   "metadata": {},
   "outputs": [],
   "source": []
  },
  {
   "cell_type": "code",
   "execution_count": 3,
   "id": "1d24cea2-c05a-468c-97ca-dd65fbdc7e31",
   "metadata": {},
   "outputs": [],
   "source": []
  },
  {
   "cell_type": "code",
   "execution_count": null,
   "id": "18b2751b-7130-4039-8670-3910d11e9306",
   "metadata": {},
   "outputs": [],
   "source": []
  },
  {
   "cell_type": "code",
   "execution_count": null,
   "id": "20b28f90-1b86-466c-9ffd-81451c9b4f58",
   "metadata": {},
   "outputs": [],
   "source": []
  }
 ],
 "metadata": {
  "kernelspec": {
   "display_name": "Python 3 (ipykernel)",
   "language": "python",
   "name": "python3"
  },
  "language_info": {
   "codemirror_mode": {
    "name": "ipython",
    "version": 3
   },
   "file_extension": ".py",
   "mimetype": "text/x-python",
   "name": "python",
   "nbconvert_exporter": "python",
   "pygments_lexer": "ipython3",
   "version": "3.11.5"
  }
 },
 "nbformat": 4,
 "nbformat_minor": 5
}
